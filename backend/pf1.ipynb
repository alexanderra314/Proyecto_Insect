{
  "cells": [
    {
      "cell_type": "code",
      "execution_count": null,
      "metadata": {
        "id": "kP4OPXDaNbMi"
      },
      "outputs": [],
      "source": [
        "#!pip install ultralytics"
      ]
    },
    {
      "cell_type": "code",
      "execution_count": 1,
      "metadata": {
        "id": "6ue0S0mdNlFr"
      },
      "outputs": [
        {
          "name": "stdout",
          "output_type": "stream",
          "text": [
            "Ultralytics YOLOv8.1.42  Python-3.10.9 torch-2.2.2+cpu CPU (AMD Athlon Silver 3050U with Radeon Graphics)\n",
            "Setup complete  (2 CPUs, 10.0 GB RAM, 222.5/237.4 GB disk)\n"
          ]
        }
      ],
      "source": [
        "import ultralytics\n",
        "ultralytics.checks()"
      ]
    },
    {
      "cell_type": "code",
      "execution_count": null,
      "metadata": {
        "id": "pLm_tjTAOpO4"
      },
      "outputs": [],
      "source": [
        "#!mkdir /content/datasets\n",
        "#%cd /content/datasets\n",
        "\n",
        "#!pip install roboflow\n",
        "\n",
        "from roboflow import Roboflow"
      ]
    },
    {
      "cell_type": "code",
      "execution_count": null,
      "metadata": {
        "id": "mT0F4Sa7NqV0"
      },
      "outputs": [],
      "source": [
        "detection = !yolo  model=/content/Yolo_m_25_epocas_best.pt conf=0.40 source= /content/EuropeanPaperWasp.jpg  mode=predict task=detect"
      ]
    },
    {
      "cell_type": "code",
      "execution_count": null,
      "metadata": {
        "colab": {
          "base_uri": "https://localhost:8080/"
        },
        "id": "V_NIWPDKlo_9",
        "outputId": "a8141b45-1392-4284-9c4d-429bf2e6daf7"
      },
      "outputs": [
        {
          "data": {
            "text/plain": [
              "['Ultralytics YOLOv8.1.42 🚀 Python-3.10.12 torch-2.2.1+cu121 CUDA:0 (Tesla T4, 15102MiB)',\n",
              " 'Model summary (fused): 218 layers, 25848445 parameters, 0 gradients, 78.7 GFLOPs',\n",
              " '',\n",
              " 'image 1/1 /content/EuropeanPaperWasp.jpg: 640x640 1 wasp, 37.3ms',\n",
              " 'Speed: 7.4ms preprocess, 37.3ms inference, 777.2ms postprocess per image at shape (1, 3, 640, 640)',\n",
              " 'Results saved to \\x1b[1mruns/detect/predict2\\x1b[0m',\n",
              " '💡 Learn more at https://docs.ultralytics.com/modes/predict']"
            ]
          },
          "execution_count": 9,
          "metadata": {},
          "output_type": "execute_result"
        }
      ],
      "source": [
        "detection"
      ]
    },
    {
      "cell_type": "code",
      "execution_count": null,
      "metadata": {
        "colab": {
          "base_uri": "https://localhost:8080/",
          "height": 36
        },
        "id": "IGYjZwzrOZe6",
        "outputId": "ab0fe9c1-0581-48ea-8f03-bfbdac9dd345"
      },
      "outputs": [
        {
          "data": {
            "application/vnd.google.colaboratory.intrinsic+json": {
              "type": "string"
            },
            "text/plain": [
              "'image 1/1 /content/EuropeanPaperWasp.jpg: 640x640 1 wasp, 37.3ms'"
            ]
          },
          "execution_count": 10,
          "metadata": {},
          "output_type": "execute_result"
        }
      ],
      "source": [
        "detection[3]"
      ]
    },
    {
      "cell_type": "markdown",
      "metadata": {
        "id": "rKgeD17VrSh9"
      },
      "source": [
        "#otra forma de predecir"
      ]
    },
    {
      "cell_type": "code",
      "execution_count": null,
      "metadata": {
        "id": "mz6jdY28lmXl"
      },
      "outputs": [],
      "source": [
        "from ultralytics import YOLO\n"
      ]
    },
    {
      "cell_type": "code",
      "execution_count": null,
      "metadata": {
        "id": "RkDVrd9Ul9TX"
      },
      "outputs": [],
      "source": [
        "model = YOLO('/content/Yolo_m_25_epocas_best.pt')"
      ]
    },
    {
      "cell_type": "code",
      "execution_count": null,
      "metadata": {
        "id": "ONqLb4rOmDzq"
      },
      "outputs": [],
      "source": [
        "source = '/content/EuropeanPaperWasp.jpg'"
      ]
    },
    {
      "cell_type": "code",
      "execution_count": null,
      "metadata": {
        "colab": {
          "base_uri": "https://localhost:8080/"
        },
        "id": "6CBkCUXFmIHN",
        "outputId": "6b5373df-e0c1-4028-95f2-2db58a1f1a8c"
      },
      "outputs": [
        {
          "name": "stdout",
          "output_type": "stream",
          "text": [
            "\n",
            "image 1/1 /content/EuropeanPaperWasp.jpg: 640x640 1 wasp, 37.2ms\n",
            "Speed: 6.4ms preprocess, 37.2ms inference, 597.7ms postprocess per image at shape (1, 3, 640, 640)\n",
            "Results saved to \u001b[1mruns/detect/predict2\u001b[0m\n",
            "1 label saved to runs/detect/predict2/labels\n"
          ]
        }
      ],
      "source": [
        "results = model(source, save=True, imgsz=640, conf=0.5, max_det=1, visualize=False, save_txt=True)"
      ]
    },
    {
      "cell_type": "code",
      "execution_count": null,
      "metadata": {
        "colab": {
          "base_uri": "https://localhost:8080/"
        },
        "id": "4iM8iIyVuDZJ",
        "outputId": "f695c629-5db1-43ff-85a7-0293eba756a9"
      },
      "outputs": [
        {
          "name": "stdout",
          "output_type": "stream",
          "text": [
            "\n",
            "image 1/1 /content/unnamed.jpg: 480x640 1 centipedes, 28.3ms\n",
            "Speed: 2.6ms preprocess, 28.3ms inference, 2.2ms postprocess per image at shape (1, 3, 480, 640)\n",
            "Results saved to \u001b[1mruns/detect/predict3\u001b[0m\n",
            "2 labels saved to runs/detect/predict3/labels\n"
          ]
        }
      ],
      "source": [
        "results = model(source =\"/content/unnamed.jpg\", save=True, imgsz=640, conf=0.5, max_det=1, visualize=False, save_txt=True)"
      ]
    },
    {
      "cell_type": "code",
      "execution_count": null,
      "metadata": {
        "colab": {
          "base_uri": "https://localhost:8080/"
        },
        "id": "2DWrSDbVsJB1",
        "outputId": "5b3be8f6-49e0-4785-e2db-14ca2a3d67bb"
      },
      "outputs": [
        {
          "data": {
            "text/plain": [
              "[ultralytics.engine.results.Results object with attributes:\n",
              " \n",
              " boxes: ultralytics.engine.results.Boxes object\n",
              " keypoints: None\n",
              " masks: None\n",
              " names: {0: 'Bees', 1: 'Butterfly', 2: 'Mantis', 3: 'ant', 4: 'beetle', 5: 'caterpillar', 6: 'centipedes', 7: 'cockroach', 8: 'dragonfly', 9: 'fly', 10: 'grasshopper', 11: 'ladybug', 12: 'mosquito', 13: 'spider', 14: 'wasp'}\n",
              " obb: None\n",
              " orig_img: array([[[ 44,   0,   0],\n",
              "         [ 73,  17,   6],\n",
              "         [ 82,   2,   0],\n",
              "         ...,\n",
              "         [ 88,   4,   0],\n",
              "         [ 76,  14,   8],\n",
              "         [ 48,   0,   0]],\n",
              " \n",
              "        [[ 75,  19,   8],\n",
              "         [133,  64,  55],\n",
              "         [149,  57,  52],\n",
              "         ...,\n",
              "         [155,  60,  55],\n",
              "         [132,  58,  54],\n",
              "         [ 77,  14,  10]],\n",
              " \n",
              "        [[ 91,  11,   4],\n",
              "         [151,  60,  55],\n",
              "         [171,  54,  53],\n",
              "         ...,\n",
              "         [168,  51,  50],\n",
              "         [149,  55,  54],\n",
              "         [ 99,  16,  15]],\n",
              " \n",
              "        ...,\n",
              " \n",
              "        [[108,   8,   6],\n",
              "         [150,  49,  45],\n",
              "         [165,  55,  55],\n",
              "         ...,\n",
              "         [165,  56,  54],\n",
              "         [150,  48,  46],\n",
              "         [107,  10,   6]],\n",
              " \n",
              "        [[102,  17,  15],\n",
              "         [140,  53,  49],\n",
              "         [152,  56,  56],\n",
              "         ...,\n",
              "         [152,  57,  54],\n",
              "         [140,  53,  51],\n",
              "         [101,  18,  14]],\n",
              " \n",
              "        [[ 69,   0,   0],\n",
              "         [ 93,  12,   9],\n",
              "         [ 98,   8,   7],\n",
              "         ...,\n",
              "         [ 98,   8,   7],\n",
              "         [ 93,  12,   9],\n",
              "         [ 69,   0,   0]]], dtype=uint8)\n",
              " orig_shape: (606, 600)\n",
              " path: '/content/EuropeanPaperWasp.jpg'\n",
              " probs: None\n",
              " save_dir: 'runs/detect/predict3'\n",
              " speed: {'preprocess': 6.117343902587891, 'inference': 41778.6066532135, 'postprocess': 2.4597644805908203}]"
            ]
          },
          "execution_count": 33,
          "metadata": {},
          "output_type": "execute_result"
        }
      ],
      "source": [
        "results"
      ]
    },
    {
      "cell_type": "code",
      "execution_count": null,
      "metadata": {
        "colab": {
          "base_uri": "https://localhost:8080/"
        },
        "id": "Ris5ya-amLLa",
        "outputId": "0cb81377-75c8-421b-fe25-00578f13f1a4"
      },
      "outputs": [
        {
          "name": "stdout",
          "output_type": "stream",
          "text": [
            "ultralytics.engine.results.Boxes object with attributes:\n",
            "\n",
            "cls: tensor([14.], device='cuda:0')\n",
            "conf: tensor([0.7645], device='cuda:0')\n",
            "data: tensor([[ 40.8396,  49.4260, 571.5612, 500.5884,   0.7645,  14.0000]], device='cuda:0')\n",
            "id: None\n",
            "is_track: False\n",
            "orig_shape: (606, 600)\n",
            "shape: torch.Size([1, 6])\n",
            "xywh: tensor([[306.2004, 275.0072, 530.7216, 451.1624]], device='cuda:0')\n",
            "xywhn: tensor([[0.5103, 0.4538, 0.8845, 0.7445]], device='cuda:0')\n",
            "xyxy: tensor([[ 40.8396,  49.4260, 571.5612, 500.5884]], device='cuda:0')\n",
            "xyxyn: tensor([[0.0681, 0.0816, 0.9526, 0.8261]], device='cuda:0')\n"
          ]
        }
      ],
      "source": [
        "for r in results:\n",
        "    print(r.boxes)"
      ]
    }
  ],
  "metadata": {
    "accelerator": "GPU",
    "colab": {
      "gpuType": "T4",
      "provenance": []
    },
    "kernelspec": {
      "display_name": "Python 3",
      "name": "python3"
    },
    "language_info": {
      "codemirror_mode": {
        "name": "ipython",
        "version": 3
      },
      "file_extension": ".py",
      "mimetype": "text/x-python",
      "name": "python",
      "nbconvert_exporter": "python",
      "pygments_lexer": "ipython3",
      "version": "3.10.9"
    }
  },
  "nbformat": 4,
  "nbformat_minor": 0
}
